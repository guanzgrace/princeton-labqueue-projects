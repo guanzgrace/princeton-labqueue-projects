{
 "cells": [
  {
   "cell_type": "code",
   "execution_count": 1,
   "metadata": {},
   "outputs": [],
   "source": [
    "import pandas as pd\n",
    "from datetime import datetime\n",
    "import matplotlib.pyplot as plt\n",
    "import numpy as np\n",
    "from matplotlib.lines import Line2D"
   ]
  },
  {
   "cell_type": "code",
   "execution_count": 2,
   "metadata": {},
   "outputs": [],
   "source": [
    "def time_delta_to_min(timedelta_obj):\n",
    "    return timedelta_obj.seconds / 60\n",
    "\n",
    "def str_to_datetime(datetime_str):\n",
    "    return datetime.strptime(datetime_str, '%Y-%m-%dT%H:%M')\n",
    "\n",
    "def str_to_datetime_for_csv(datetime_str):\n",
    "    return datetime.strptime(datetime_str, '%Y-%m-%d %H:%M:%S')\n",
    "\n",
    "def get_year(datetime_obj):\n",
    "    return datetime_obj.year\n",
    "\n",
    "def get_month(datetime_obj):\n",
    "    return datetime_obj.month\n",
    "\n",
    "def get_day(datetime_obj):\n",
    "    return datetime_obj.day\n",
    "\n",
    "def get_hour(datetime_obj):\n",
    "    return datetime_obj.hour\n",
    "\n",
    "def get_minute(datetime_obj):\n",
    "    return datetime_obj.minute\n",
    "\n",
    "def get_dayofweek(datetime_obj):\n",
    "    return datetime_obj.weekday()\n",
    "\n",
    "def get_weekofyear(datetime_obj):\n",
    "    return datetime_obj.isocalendar()[1]"
   ]
  },
  {
   "cell_type": "code",
   "execution_count": 1,
   "metadata": {},
   "outputs": [],
   "source": [
    "def preprocess_dates_in_csv(df):\n",
    "    df.index = df[\"Unnamed: 0\"]\n",
    "    df['time_accepted'] = df['time_accepted'].apply(str_to_datetime_for_csv)\n",
    "    df['time_closed'] = df['time_closed'].apply(str_to_datetime_for_csv)\n",
    "    df['time_created'] = df['time_created'].apply(str_to_datetime_for_csv)\n",
    "    df['wait_time'] = df['time_accepted'] - df['time_created']\n",
    "    df['year'] = df['time_accepted'].apply(get_year)\n",
    "    df['month'] = df['time_accepted'].apply(get_month)\n",
    "    df['day'] = df['time_accepted'].apply(get_day)\n",
    "    df['day_created'] = df['time_created'].apply(get_day)\n",
    "    df['hour_accepted'] = df['time_accepted'].apply(get_hour)\n",
    "    df['minute_accepted'] = df['time_accepted'].apply(get_minute)\n",
    "    df['hour_created'] = df['time_created'].apply(get_hour)\n",
    "    df['minute_created'] = df['time_created'].apply(get_minute)\n",
    "    df['hour_closed'] = df['time_closed'].apply(get_hour)\n",
    "    df['minute_closed'] = df['time_closed'].apply(get_minute)\n",
    "    df['day_of_week'] = df['time_created'].apply(get_dayofweek) #Monday is 0 and Sunday is 6\n",
    "    df['week_of_year'] = df['time_created'].apply(get_weekofyear)\n",
    "    df['wait_time_in_minutes'] = df['wait_time'].apply(time_delta_to_min)\n",
    "    #df['wait_time_90m_before_submit'] = df['wait_time_90m_before_submit'].apply(time_delta_to_min)\n",
    "    #df['wait_time_30m_before_submit'] = df['wait_time_30m_before_submit'].apply(time_delta_to_min)\n",
    "    #df['help_time_90m_before_submit'] = df['help_time_90m_before_submit'].apply(time_delta_to_min)\n",
    "    #df['help_time_30m_before_submit'] = df['help_time_30m_before_submit'].apply(time_delta_to_min)\n",
    "    return df"
   ]
  },
  {
   "cell_type": "code",
   "execution_count": null,
   "metadata": {},
   "outputs": [],
   "source": []
  }
 ],
 "metadata": {
  "kernelspec": {
   "display_name": "Python 3",
   "language": "python",
   "name": "python3"
  },
  "language_info": {
   "codemirror_mode": {
    "name": "ipython",
    "version": 3
   },
   "file_extension": ".py",
   "mimetype": "text/x-python",
   "name": "python",
   "nbconvert_exporter": "python",
   "pygments_lexer": "ipython3",
   "version": "3.7.6"
  }
 },
 "nbformat": 4,
 "nbformat_minor": 2
}
